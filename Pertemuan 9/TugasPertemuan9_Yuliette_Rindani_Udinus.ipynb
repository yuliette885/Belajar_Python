{
  "nbformat": 4,
  "nbformat_minor": 0,
  "metadata": {
    "colab": {
      "name": "TugasPertemuan9_Yuliette Rindani_Udinus.ipynb",
      "provenance": [],
      "collapsed_sections": []
    },
    "kernelspec": {
      "name": "python3",
      "display_name": "Python 3"
    },
    "language_info": {
      "name": "python"
    }
  },
  "cells": [
    {
      "cell_type": "code",
      "metadata": {
        "colab": {
          "base_uri": "https://localhost:8080/"
        },
        "id": "wtKt3KBkZf9C",
        "outputId": "db51abaf-29cd-49a4-d4a9-934ecd299bab"
      },
      "source": [
        "!pip install feature-engine"
      ],
      "execution_count": 1,
      "outputs": [
        {
          "output_type": "stream",
          "name": "stdout",
          "text": [
            "Collecting feature-engine\n",
            "  Downloading feature_engine-1.1.2-py2.py3-none-any.whl (180 kB)\n",
            "\u001b[K     |████████████████████████████████| 180 kB 5.1 MB/s \n",
            "\u001b[?25hRequirement already satisfied: pandas>=1.0.3 in /usr/local/lib/python3.7/dist-packages (from feature-engine) (1.1.5)\n",
            "Requirement already satisfied: scikit-learn>=0.22.2 in /usr/local/lib/python3.7/dist-packages (from feature-engine) (1.0.1)\n",
            "Requirement already satisfied: scipy>=1.4.1 in /usr/local/lib/python3.7/dist-packages (from feature-engine) (1.4.1)\n",
            "Collecting statsmodels>=0.11.1\n",
            "  Downloading statsmodels-0.13.1-cp37-cp37m-manylinux_2_17_x86_64.manylinux2014_x86_64.whl (9.8 MB)\n",
            "\u001b[K     |████████████████████████████████| 9.8 MB 1.3 MB/s \n",
            "\u001b[?25hRequirement already satisfied: numpy>=1.18.2 in /usr/local/lib/python3.7/dist-packages (from feature-engine) (1.19.5)\n",
            "Requirement already satisfied: python-dateutil>=2.7.3 in /usr/local/lib/python3.7/dist-packages (from pandas>=1.0.3->feature-engine) (2.8.2)\n",
            "Requirement already satisfied: pytz>=2017.2 in /usr/local/lib/python3.7/dist-packages (from pandas>=1.0.3->feature-engine) (2018.9)\n",
            "Requirement already satisfied: six>=1.5 in /usr/local/lib/python3.7/dist-packages (from python-dateutil>=2.7.3->pandas>=1.0.3->feature-engine) (1.15.0)\n",
            "Requirement already satisfied: threadpoolctl>=2.0.0 in /usr/local/lib/python3.7/dist-packages (from scikit-learn>=0.22.2->feature-engine) (3.0.0)\n",
            "Requirement already satisfied: joblib>=0.11 in /usr/local/lib/python3.7/dist-packages (from scikit-learn>=0.22.2->feature-engine) (1.1.0)\n",
            "Requirement already satisfied: patsy>=0.5.2 in /usr/local/lib/python3.7/dist-packages (from statsmodels>=0.11.1->feature-engine) (0.5.2)\n",
            "Installing collected packages: statsmodels, feature-engine\n",
            "  Attempting uninstall: statsmodels\n",
            "    Found existing installation: statsmodels 0.10.2\n",
            "    Uninstalling statsmodels-0.10.2:\n",
            "      Successfully uninstalled statsmodels-0.10.2\n",
            "Successfully installed feature-engine-1.1.2 statsmodels-0.13.1\n"
          ]
        }
      ]
    },
    {
      "cell_type": "code",
      "metadata": {
        "id": "kyF9gEZKmog7"
      },
      "source": [
        "# Latihan 1\n",
        "# import library pandas\n",
        "\n",
        "import pandas as pd\n",
        "\n",
        "# Import library scipy\n",
        "\n",
        "import scipy\n",
        "\n",
        "# Import library winsorize dari scipy\n",
        "\n",
        "from scipy.stats.mstats import winsorize\n",
        "\n",
        "# Import library trima dari scipy\n",
        "\n",
        "from scipy.stats.mstats import trima\n",
        "\n",
        "# Import library RandomSampleImputer dari feature engine imputation\n",
        "\n",
        "from feature_engine.imputation import RandomSampleImputer\n",
        "\n",
        "# import library StandardScaler dari sklearn\n",
        "\n",
        "from sklearn.preprocessing import StandardScaler"
      ],
      "execution_count": 2,
      "outputs": []
    },
    {
      "cell_type": "code",
      "metadata": {
        "id": "KqjH3MRRuR5P"
      },
      "source": [
        "# Latihan 2\n",
        "# load dataset Iris_Unclean\n",
        "\n",
        "df = pd.read_csv(\"Iris_unclean.csv\")"
      ],
      "execution_count": 3,
      "outputs": []
    },
    {
      "cell_type": "code",
      "metadata": {
        "colab": {
          "base_uri": "https://localhost:8080/",
          "height": 419
        },
        "id": "qHtFR6LFuwMb",
        "outputId": "94bdae48-2d48-426c-c7a8-1f1ca8050b45"
      },
      "source": [
        "# tampilkan dataset\n",
        "\n",
        "df"
      ],
      "execution_count": 4,
      "outputs": [
        {
          "output_type": "execute_result",
          "data": {
            "text/html": [
              "<div>\n",
              "<style scoped>\n",
              "    .dataframe tbody tr th:only-of-type {\n",
              "        vertical-align: middle;\n",
              "    }\n",
              "\n",
              "    .dataframe tbody tr th {\n",
              "        vertical-align: top;\n",
              "    }\n",
              "\n",
              "    .dataframe thead th {\n",
              "        text-align: right;\n",
              "    }\n",
              "</style>\n",
              "<table border=\"1\" class=\"dataframe\">\n",
              "  <thead>\n",
              "    <tr style=\"text-align: right;\">\n",
              "      <th></th>\n",
              "      <th>SepalLengthCm</th>\n",
              "      <th>SepalWidthCm</th>\n",
              "      <th>PetalLengthCm</th>\n",
              "      <th>PetalWidthCm</th>\n",
              "      <th>Species</th>\n",
              "    </tr>\n",
              "  </thead>\n",
              "  <tbody>\n",
              "    <tr>\n",
              "      <th>0</th>\n",
              "      <td>NaN</td>\n",
              "      <td>3.5</td>\n",
              "      <td>1.4</td>\n",
              "      <td>0.2</td>\n",
              "      <td>Iris-setosa</td>\n",
              "    </tr>\n",
              "    <tr>\n",
              "      <th>1</th>\n",
              "      <td>4.9</td>\n",
              "      <td>2000.0</td>\n",
              "      <td>1.4</td>\n",
              "      <td>0.2</td>\n",
              "      <td>Iris-setosa</td>\n",
              "    </tr>\n",
              "    <tr>\n",
              "      <th>2</th>\n",
              "      <td>4.7</td>\n",
              "      <td>3.2</td>\n",
              "      <td>-1.3</td>\n",
              "      <td>0.2</td>\n",
              "      <td>Iris-setosa</td>\n",
              "    </tr>\n",
              "    <tr>\n",
              "      <th>3</th>\n",
              "      <td>4.6</td>\n",
              "      <td>3.1</td>\n",
              "      <td>1.5</td>\n",
              "      <td>0.2</td>\n",
              "      <td>Iris-setosa</td>\n",
              "    </tr>\n",
              "    <tr>\n",
              "      <th>4</th>\n",
              "      <td>5.0</td>\n",
              "      <td>3.6</td>\n",
              "      <td>1.4</td>\n",
              "      <td>0.2</td>\n",
              "      <td>Iris-setosa</td>\n",
              "    </tr>\n",
              "    <tr>\n",
              "      <th>...</th>\n",
              "      <td>...</td>\n",
              "      <td>...</td>\n",
              "      <td>...</td>\n",
              "      <td>...</td>\n",
              "      <td>...</td>\n",
              "    </tr>\n",
              "    <tr>\n",
              "      <th>145</th>\n",
              "      <td>6.7</td>\n",
              "      <td>3.0</td>\n",
              "      <td>5.2</td>\n",
              "      <td>2.3</td>\n",
              "      <td>Iris-virginica</td>\n",
              "    </tr>\n",
              "    <tr>\n",
              "      <th>146</th>\n",
              "      <td>6.3</td>\n",
              "      <td>2.5</td>\n",
              "      <td>5.0</td>\n",
              "      <td>1.9</td>\n",
              "      <td>Iris-virginica</td>\n",
              "    </tr>\n",
              "    <tr>\n",
              "      <th>147</th>\n",
              "      <td>6.5</td>\n",
              "      <td>3.0</td>\n",
              "      <td>5.2</td>\n",
              "      <td>2.0</td>\n",
              "      <td>Iris-virginica</td>\n",
              "    </tr>\n",
              "    <tr>\n",
              "      <th>148</th>\n",
              "      <td>6.2</td>\n",
              "      <td>3.4</td>\n",
              "      <td>5.4</td>\n",
              "      <td>2.3</td>\n",
              "      <td>Iris-virginica</td>\n",
              "    </tr>\n",
              "    <tr>\n",
              "      <th>149</th>\n",
              "      <td>5.9</td>\n",
              "      <td>3.0</td>\n",
              "      <td>5.1</td>\n",
              "      <td>1.8</td>\n",
              "      <td>Iris-virginica</td>\n",
              "    </tr>\n",
              "  </tbody>\n",
              "</table>\n",
              "<p>150 rows × 5 columns</p>\n",
              "</div>"
            ],
            "text/plain": [
              "     SepalLengthCm  SepalWidthCm  PetalLengthCm  PetalWidthCm         Species\n",
              "0              NaN           3.5            1.4           0.2     Iris-setosa\n",
              "1              4.9        2000.0            1.4           0.2     Iris-setosa\n",
              "2              4.7           3.2           -1.3           0.2     Iris-setosa\n",
              "3              4.6           3.1            1.5           0.2     Iris-setosa\n",
              "4              5.0           3.6            1.4           0.2     Iris-setosa\n",
              "..             ...           ...            ...           ...             ...\n",
              "145            6.7           3.0            5.2           2.3  Iris-virginica\n",
              "146            6.3           2.5            5.0           1.9  Iris-virginica\n",
              "147            6.5           3.0            5.2           2.0  Iris-virginica\n",
              "148            6.2           3.4            5.4           2.3  Iris-virginica\n",
              "149            5.9           3.0            5.1           1.8  Iris-virginica\n",
              "\n",
              "[150 rows x 5 columns]"
            ]
          },
          "metadata": {},
          "execution_count": 4
        }
      ]
    },
    {
      "cell_type": "code",
      "metadata": {
        "colab": {
          "base_uri": "https://localhost:8080/"
        },
        "id": "ROqn-Nqdu2xU",
        "outputId": "340af1f1-9112-44d8-dc6d-475df71568a2"
      },
      "source": [
        "# hitung jumlah nilai null pada dataset\n",
        "\n",
        "df.isnull().sum()"
      ],
      "execution_count": 5,
      "outputs": [
        {
          "output_type": "execute_result",
          "data": {
            "text/plain": [
              "SepalLengthCm    2\n",
              "SepalWidthCm     0\n",
              "PetalLengthCm    0\n",
              "PetalWidthCm     0\n",
              "Species          0\n",
              "dtype: int64"
            ]
          },
          "metadata": {},
          "execution_count": 5
        }
      ]
    },
    {
      "cell_type": "code",
      "metadata": {
        "id": "ynxyIsp1u81y"
      },
      "source": [
        "# latihan 3\n",
        "# load dataset Iris_Unclean\n",
        "\n",
        "df = pd.read_csv(\"Iris_unclean.csv\")"
      ],
      "execution_count": 6,
      "outputs": []
    },
    {
      "cell_type": "code",
      "metadata": {
        "colab": {
          "base_uri": "https://localhost:8080/"
        },
        "id": "yaKVAj-XvSfI",
        "outputId": "ce4e4d3f-3dd1-487d-9ce4-c61125c527af"
      },
      "source": [
        "# ambil 10 data teratas SepalLengthCm, kemudian tampilkan\n",
        "df = df.head(10)[\"SepalLengthCm\"]\n",
        "df"
      ],
      "execution_count": 7,
      "outputs": [
        {
          "output_type": "execute_result",
          "data": {
            "text/plain": [
              "0    NaN\n",
              "1    4.9\n",
              "2    4.7\n",
              "3    4.6\n",
              "4    5.0\n",
              "5    5.4\n",
              "6    NaN\n",
              "7    5.0\n",
              "8    4.4\n",
              "9    4.9\n",
              "Name: SepalLengthCm, dtype: float64"
            ]
          },
          "metadata": {},
          "execution_count": 7
        }
      ]
    },
    {
      "cell_type": "code",
      "metadata": {
        "id": "8KwlNAjAxwXz"
      },
      "source": [
        "# mengganti missing value dengan mean(), kemudian masukkan ke variabel\n",
        "\n",
        "df = df.fillna(df.mean())"
      ],
      "execution_count": 8,
      "outputs": []
    },
    {
      "cell_type": "code",
      "metadata": {
        "colab": {
          "base_uri": "https://localhost:8080/"
        },
        "id": "0ZhbPDv2lUzv",
        "outputId": "dc1a8f75-a59e-43d0-9ff4-fbb07cb7d331"
      },
      "source": [
        "# tampilkan 10 data teratas SepalLengthCm setelah handle missing value dengan imputasi mean\n",
        "\n",
        "df "
      ],
      "execution_count": 9,
      "outputs": [
        {
          "output_type": "execute_result",
          "data": {
            "text/plain": [
              "0    4.8625\n",
              "1    4.9000\n",
              "2    4.7000\n",
              "3    4.6000\n",
              "4    5.0000\n",
              "5    5.4000\n",
              "6    4.8625\n",
              "7    5.0000\n",
              "8    4.4000\n",
              "9    4.9000\n",
              "Name: SepalLengthCm, dtype: float64"
            ]
          },
          "metadata": {},
          "execution_count": 9
        }
      ]
    },
    {
      "cell_type": "code",
      "metadata": {
        "id": "B8QVD-eA5SoU"
      },
      "source": [
        "# Latihan 4\n",
        "df = pd.read_csv(\"Iris_unclean.csv\")"
      ],
      "execution_count": 10,
      "outputs": []
    },
    {
      "cell_type": "code",
      "metadata": {
        "colab": {
          "base_uri": "https://localhost:8080/"
        },
        "id": "bfgVWG9s5i-X",
        "outputId": "36ca6bda-0014-439e-96c4-367507d0c121"
      },
      "source": [
        "# ambil 10 data teratas SepalLengthCm, kemudian tampilkan\n",
        "\n",
        "df = df.head(10)[\"SepalLengthCm\"]\n",
        "df"
      ],
      "execution_count": 11,
      "outputs": [
        {
          "output_type": "execute_result",
          "data": {
            "text/plain": [
              "0    NaN\n",
              "1    4.9\n",
              "2    4.7\n",
              "3    4.6\n",
              "4    5.0\n",
              "5    5.4\n",
              "6    NaN\n",
              "7    5.0\n",
              "8    4.4\n",
              "9    4.9\n",
              "Name: SepalLengthCm, dtype: float64"
            ]
          },
          "metadata": {},
          "execution_count": 11
        }
      ]
    },
    {
      "cell_type": "code",
      "metadata": {
        "id": "zPa9Wiwl6Hb2"
      },
      "source": [
        "# melakukan imputasi nilai suka-suka (Arbitrary), masukkan ke dalam variabel\n",
        "\n",
        "df = df.fillna(99)"
      ],
      "execution_count": 12,
      "outputs": []
    },
    {
      "cell_type": "code",
      "metadata": {
        "colab": {
          "base_uri": "https://localhost:8080/"
        },
        "id": "kD1jqKX6C6x-",
        "outputId": "30d6ef94-79ed-4874-b2a0-920bac0f50af"
      },
      "source": [
        "df"
      ],
      "execution_count": 13,
      "outputs": [
        {
          "output_type": "execute_result",
          "data": {
            "text/plain": [
              "0    99.0\n",
              "1     4.9\n",
              "2     4.7\n",
              "3     4.6\n",
              "4     5.0\n",
              "5     5.4\n",
              "6    99.0\n",
              "7     5.0\n",
              "8     4.4\n",
              "9     4.9\n",
              "Name: SepalLengthCm, dtype: float64"
            ]
          },
          "metadata": {},
          "execution_count": 13
        }
      ]
    },
    {
      "cell_type": "code",
      "metadata": {
        "id": "r1o70LJoDCl7"
      },
      "source": [
        "# Latihan 5\n",
        "# load dataset Iris_Unclean\n",
        "\n",
        "data = pd.read_csv(\"Iris_unclean.csv\")"
      ],
      "execution_count": 23,
      "outputs": []
    },
    {
      "cell_type": "code",
      "metadata": {
        "colab": {
          "base_uri": "https://localhost:8080/"
        },
        "id": "gRoOnmJfDQhk",
        "outputId": "f7db55b2-1d2c-4e31-80c4-0271b1938eea"
      },
      "source": [
        "# tampilkan 10 data teratas kolom SepalLengthCm\n",
        "\n",
        "df = data.head(10)[\"SepalLengthCm\"]\n",
        "df"
      ],
      "execution_count": 24,
      "outputs": [
        {
          "output_type": "execute_result",
          "data": {
            "text/plain": [
              "0    NaN\n",
              "1    4.9\n",
              "2    4.7\n",
              "3    4.6\n",
              "4    5.0\n",
              "5    5.4\n",
              "6    NaN\n",
              "7    5.0\n",
              "8    4.4\n",
              "9    4.9\n",
              "Name: SepalLengthCm, dtype: float64"
            ]
          },
          "metadata": {},
          "execution_count": 24
        }
      ]
    },
    {
      "cell_type": "code",
      "metadata": {
        "id": "MT9emvw3Dc6F"
      },
      "source": [
        "# Import SimpleImputer dari sklearn.impute\n",
        "\n",
        "from sklearn.impute import SimpleImputer\n",
        "\n",
        "# Mengatasi missing value dengan frequent category / modus\n",
        "\n",
        "imp = SimpleImputer(strategy='most_frequent')"
      ],
      "execution_count": 25,
      "outputs": []
    },
    {
      "cell_type": "code",
      "metadata": {
        "colab": {
          "base_uri": "https://localhost:8080/"
        },
        "id": "iW_8f0cFDy-E",
        "outputId": "127dc8cd-1120-4676-bf3a-530aace1e003"
      },
      "source": [
        "# Tampilkan hasil imputasi \"SepalLengthCm\"\n",
        "\n",
        "imp.fit_transform(data[['SepalLengthCm']])"
      ],
      "execution_count": 26,
      "outputs": [
        {
          "output_type": "execute_result",
          "data": {
            "text/plain": [
              "array([[5. ],\n",
              "       [4.9],\n",
              "       [4.7],\n",
              "       [4.6],\n",
              "       [5. ],\n",
              "       [5.4],\n",
              "       [5. ],\n",
              "       [5. ],\n",
              "       [4.4],\n",
              "       [4.9],\n",
              "       [5.4],\n",
              "       [4.8],\n",
              "       [4.8],\n",
              "       [4.3],\n",
              "       [5.8],\n",
              "       [5.7],\n",
              "       [5.4],\n",
              "       [5.1],\n",
              "       [5.7],\n",
              "       [5.1],\n",
              "       [5.4],\n",
              "       [5.1],\n",
              "       [4.6],\n",
              "       [5.1],\n",
              "       [4.8],\n",
              "       [5. ],\n",
              "       [5. ],\n",
              "       [5.2],\n",
              "       [5.2],\n",
              "       [4.7],\n",
              "       [4.8],\n",
              "       [5.4],\n",
              "       [5.2],\n",
              "       [5.5],\n",
              "       [4.9],\n",
              "       [5. ],\n",
              "       [5.5],\n",
              "       [4.9],\n",
              "       [4.4],\n",
              "       [5.1],\n",
              "       [5. ],\n",
              "       [4.5],\n",
              "       [4.4],\n",
              "       [5. ],\n",
              "       [5.1],\n",
              "       [4.8],\n",
              "       [5.1],\n",
              "       [4.6],\n",
              "       [5.3],\n",
              "       [5. ],\n",
              "       [7. ],\n",
              "       [6.4],\n",
              "       [6.9],\n",
              "       [5.5],\n",
              "       [6.5],\n",
              "       [5.7],\n",
              "       [6.3],\n",
              "       [4.9],\n",
              "       [6.6],\n",
              "       [5.2],\n",
              "       [5. ],\n",
              "       [5.9],\n",
              "       [6. ],\n",
              "       [6.1],\n",
              "       [5.6],\n",
              "       [6.7],\n",
              "       [5.6],\n",
              "       [5.8],\n",
              "       [6.2],\n",
              "       [5.6],\n",
              "       [5.9],\n",
              "       [6.1],\n",
              "       [6.3],\n",
              "       [6.1],\n",
              "       [6.4],\n",
              "       [6.6],\n",
              "       [6.8],\n",
              "       [6.7],\n",
              "       [6. ],\n",
              "       [5.7],\n",
              "       [5.5],\n",
              "       [5.5],\n",
              "       [5.8],\n",
              "       [6. ],\n",
              "       [5.4],\n",
              "       [6. ],\n",
              "       [6.7],\n",
              "       [6.3],\n",
              "       [5.6],\n",
              "       [5.5],\n",
              "       [5.5],\n",
              "       [6.1],\n",
              "       [5.8],\n",
              "       [5. ],\n",
              "       [5.6],\n",
              "       [5.7],\n",
              "       [5.7],\n",
              "       [6.2],\n",
              "       [5.1],\n",
              "       [5.7],\n",
              "       [6.3],\n",
              "       [5.8],\n",
              "       [7.1],\n",
              "       [6.3],\n",
              "       [6.5],\n",
              "       [7.6],\n",
              "       [4.9],\n",
              "       [7.3],\n",
              "       [6.7],\n",
              "       [7.2],\n",
              "       [6.5],\n",
              "       [6.4],\n",
              "       [6.8],\n",
              "       [5.7],\n",
              "       [5.8],\n",
              "       [6.4],\n",
              "       [6.5],\n",
              "       [7.7],\n",
              "       [7.7],\n",
              "       [6. ],\n",
              "       [6.9],\n",
              "       [5.6],\n",
              "       [7.7],\n",
              "       [6.3],\n",
              "       [6.7],\n",
              "       [7.2],\n",
              "       [6.2],\n",
              "       [6.1],\n",
              "       [6.4],\n",
              "       [7.2],\n",
              "       [7.4],\n",
              "       [7.9],\n",
              "       [6.4],\n",
              "       [6.3],\n",
              "       [6.1],\n",
              "       [7.7],\n",
              "       [6.3],\n",
              "       [6.4],\n",
              "       [6. ],\n",
              "       [6.9],\n",
              "       [6.7],\n",
              "       [6.9],\n",
              "       [5.8],\n",
              "       [6.8],\n",
              "       [6.7],\n",
              "       [6.7],\n",
              "       [6.3],\n",
              "       [6.5],\n",
              "       [6.2],\n",
              "       [5.9]])"
            ]
          },
          "metadata": {},
          "execution_count": 26
        }
      ]
    },
    {
      "cell_type": "code",
      "metadata": {
        "id": "XpD4rbijJJ5-"
      },
      "source": [
        "# Latihan 6\n",
        "df = pd.read_csv(\"Iris_unclean.csv\")"
      ],
      "execution_count": 18,
      "outputs": []
    },
    {
      "cell_type": "code",
      "metadata": {
        "colab": {
          "base_uri": "https://localhost:8080/"
        },
        "id": "v3ul53SQKAK6",
        "outputId": "05cbc6d5-4a0a-4724-b2e7-cddd588fc051"
      },
      "source": [
        "# tampilkan 10 data teratas SepalLengthCm\n",
        "\n",
        "data = df.head(10)[\"SepalLengthCm\"]\n",
        "data"
      ],
      "execution_count": 19,
      "outputs": [
        {
          "output_type": "execute_result",
          "data": {
            "text/plain": [
              "0    NaN\n",
              "1    4.9\n",
              "2    4.7\n",
              "3    4.6\n",
              "4    5.0\n",
              "5    5.4\n",
              "6    NaN\n",
              "7    5.0\n",
              "8    4.4\n",
              "9    4.9\n",
              "Name: SepalLengthCm, dtype: float64"
            ]
          },
          "metadata": {},
          "execution_count": 19
        }
      ]
    },
    {
      "cell_type": "code",
      "metadata": {
        "id": "987rBALoKKSq"
      },
      "source": [
        "# Membuat imputer random sample dengan random state = 5\n",
        "\n",
        "imputer = RandomSampleImputer(random_state = 5)\n",
        "\n",
        "# Cocokan imputer ke data\n",
        "\n",
        "imputer.fit(df)\n",
        "\n",
        "# Ubah data dengan imputer masukkan ke dalam variable\n",
        "\n",
        "test_t = imputer.transform(df)"
      ],
      "execution_count": 20,
      "outputs": []
    },
    {
      "cell_type": "code",
      "metadata": {
        "colab": {
          "base_uri": "https://localhost:8080/",
          "height": 419
        },
        "id": "65tbPYUQMAiT",
        "outputId": "40e50754-90f2-435e-e586-dc45367a4583"
      },
      "source": [
        "# Tampilkan data hasil imputasi data \"SepalLengthCm\"\n",
        "\n",
        "test_t"
      ],
      "execution_count": 21,
      "outputs": [
        {
          "output_type": "execute_result",
          "data": {
            "text/html": [
              "<div>\n",
              "<style scoped>\n",
              "    .dataframe tbody tr th:only-of-type {\n",
              "        vertical-align: middle;\n",
              "    }\n",
              "\n",
              "    .dataframe tbody tr th {\n",
              "        vertical-align: top;\n",
              "    }\n",
              "\n",
              "    .dataframe thead th {\n",
              "        text-align: right;\n",
              "    }\n",
              "</style>\n",
              "<table border=\"1\" class=\"dataframe\">\n",
              "  <thead>\n",
              "    <tr style=\"text-align: right;\">\n",
              "      <th></th>\n",
              "      <th>SepalLengthCm</th>\n",
              "      <th>SepalWidthCm</th>\n",
              "      <th>PetalLengthCm</th>\n",
              "      <th>PetalWidthCm</th>\n",
              "      <th>Species</th>\n",
              "    </tr>\n",
              "  </thead>\n",
              "  <tbody>\n",
              "    <tr>\n",
              "      <th>0</th>\n",
              "      <td>5.8</td>\n",
              "      <td>3.5</td>\n",
              "      <td>1.4</td>\n",
              "      <td>0.2</td>\n",
              "      <td>Iris-setosa</td>\n",
              "    </tr>\n",
              "    <tr>\n",
              "      <th>1</th>\n",
              "      <td>4.9</td>\n",
              "      <td>2000.0</td>\n",
              "      <td>1.4</td>\n",
              "      <td>0.2</td>\n",
              "      <td>Iris-setosa</td>\n",
              "    </tr>\n",
              "    <tr>\n",
              "      <th>2</th>\n",
              "      <td>4.7</td>\n",
              "      <td>3.2</td>\n",
              "      <td>-1.3</td>\n",
              "      <td>0.2</td>\n",
              "      <td>Iris-setosa</td>\n",
              "    </tr>\n",
              "    <tr>\n",
              "      <th>3</th>\n",
              "      <td>4.6</td>\n",
              "      <td>3.1</td>\n",
              "      <td>1.5</td>\n",
              "      <td>0.2</td>\n",
              "      <td>Iris-setosa</td>\n",
              "    </tr>\n",
              "    <tr>\n",
              "      <th>4</th>\n",
              "      <td>5.0</td>\n",
              "      <td>3.6</td>\n",
              "      <td>1.4</td>\n",
              "      <td>0.2</td>\n",
              "      <td>Iris-setosa</td>\n",
              "    </tr>\n",
              "    <tr>\n",
              "      <th>...</th>\n",
              "      <td>...</td>\n",
              "      <td>...</td>\n",
              "      <td>...</td>\n",
              "      <td>...</td>\n",
              "      <td>...</td>\n",
              "    </tr>\n",
              "    <tr>\n",
              "      <th>145</th>\n",
              "      <td>6.7</td>\n",
              "      <td>3.0</td>\n",
              "      <td>5.2</td>\n",
              "      <td>2.3</td>\n",
              "      <td>Iris-virginica</td>\n",
              "    </tr>\n",
              "    <tr>\n",
              "      <th>146</th>\n",
              "      <td>6.3</td>\n",
              "      <td>2.5</td>\n",
              "      <td>5.0</td>\n",
              "      <td>1.9</td>\n",
              "      <td>Iris-virginica</td>\n",
              "    </tr>\n",
              "    <tr>\n",
              "      <th>147</th>\n",
              "      <td>6.5</td>\n",
              "      <td>3.0</td>\n",
              "      <td>5.2</td>\n",
              "      <td>2.0</td>\n",
              "      <td>Iris-virginica</td>\n",
              "    </tr>\n",
              "    <tr>\n",
              "      <th>148</th>\n",
              "      <td>6.2</td>\n",
              "      <td>3.4</td>\n",
              "      <td>5.4</td>\n",
              "      <td>2.3</td>\n",
              "      <td>Iris-virginica</td>\n",
              "    </tr>\n",
              "    <tr>\n",
              "      <th>149</th>\n",
              "      <td>5.9</td>\n",
              "      <td>3.0</td>\n",
              "      <td>5.1</td>\n",
              "      <td>1.8</td>\n",
              "      <td>Iris-virginica</td>\n",
              "    </tr>\n",
              "  </tbody>\n",
              "</table>\n",
              "<p>150 rows × 5 columns</p>\n",
              "</div>"
            ],
            "text/plain": [
              "     SepalLengthCm  SepalWidthCm  PetalLengthCm  PetalWidthCm         Species\n",
              "0              5.8           3.5            1.4           0.2     Iris-setosa\n",
              "1              4.9        2000.0            1.4           0.2     Iris-setosa\n",
              "2              4.7           3.2           -1.3           0.2     Iris-setosa\n",
              "3              4.6           3.1            1.5           0.2     Iris-setosa\n",
              "4              5.0           3.6            1.4           0.2     Iris-setosa\n",
              "..             ...           ...            ...           ...             ...\n",
              "145            6.7           3.0            5.2           2.3  Iris-virginica\n",
              "146            6.3           2.5            5.0           1.9  Iris-virginica\n",
              "147            6.5           3.0            5.2           2.0  Iris-virginica\n",
              "148            6.2           3.4            5.4           2.3  Iris-virginica\n",
              "149            5.9           3.0            5.1           1.8  Iris-virginica\n",
              "\n",
              "[150 rows x 5 columns]"
            ]
          },
          "metadata": {},
          "execution_count": 21
        }
      ]
    },
    {
      "cell_type": "code",
      "metadata": {
        "id": "8XFq1RYRMJw0"
      },
      "source": [
        "# Latihan 7\n",
        "# Import library scipy\n",
        "\n",
        "import numpy as np\n",
        "from scipy.stats.mstats import winsorize\n",
        "from scipy.stats.mstats import trima"
      ],
      "execution_count": null,
      "outputs": []
    },
    {
      "cell_type": "code",
      "metadata": {
        "colab": {
          "base_uri": "https://localhost:8080/"
        },
        "id": "MBAYPCsaMeln",
        "outputId": "9f7bf1b2-bf03-46c4-c4af-14423c7ccaf7"
      },
      "source": [
        "# Load data Iris_AfterClean\n",
        "data = pd.read_csv(\"Iris_AfterClean.csv\")\n",
        "\n",
        "# Ambil 10 data teratas \"SepalLengthCm\", kemudian masukkan ke dalam variabel datan tampilkan\n",
        "a = data.head(10)[\"SepalLengthCm\"]\n",
        "a"
      ],
      "execution_count": null,
      "outputs": [
        {
          "output_type": "execute_result",
          "data": {
            "text/plain": [
              "0    4.6\n",
              "1    5.0\n",
              "2    5.4\n",
              "3    4.9\n",
              "4    5.4\n",
              "5    4.8\n",
              "6    4.8\n",
              "7    4.3\n",
              "8    5.8\n",
              "9    5.4\n",
              "Name: SepalLengthCm, dtype: float64"
            ]
          },
          "metadata": {},
          "execution_count": 81
        }
      ]
    },
    {
      "cell_type": "code",
      "metadata": {
        "colab": {
          "base_uri": "https://localhost:8080/"
        },
        "id": "YGT5SW1TM5wz",
        "outputId": "63bcb15a-0961-4ee1-bf40-8d266eb99156"
      },
      "source": [
        "# Winsorize data dengan batas nilai terendah 10% dan batas nilai tinggi 20%\n",
        "\n",
        "wins = winsorize(a, limits=[0.1, 0.2])\n",
        "\n",
        "# Tampilkan hasil winsorize\n",
        "print(wins)"
      ],
      "execution_count": null,
      "outputs": [
        {
          "output_type": "stream",
          "name": "stdout",
          "text": [
            "[4.6 5.  5.4 4.9 5.4 4.8 4.8 4.6 5.4 5.4]\n"
          ]
        }
      ]
    },
    {
      "cell_type": "code",
      "metadata": {
        "id": "28b4WcUuNQhq"
      },
      "source": [
        "# Latihan 8\n",
        "# Import library trima dari scopy\n",
        "\n",
        "from scipy.stats.mstats import trima"
      ],
      "execution_count": null,
      "outputs": []
    },
    {
      "cell_type": "code",
      "metadata": {
        "colab": {
          "base_uri": "https://localhost:8080/"
        },
        "id": "_ztn2Td6ODY2",
        "outputId": "9283b790-c520-49d7-98bd-2fca2d690b55"
      },
      "source": [
        "# Load data Iris_AfterClean\n",
        "data = pd.read_csv(\"Iris_AfterClean.csv\")\n",
        "\n",
        "# Ambil 10 data teratas \"SepalLengthCm\", kemudian masukkan ke dalam variabel datan tampilkan\n",
        "a = data.head(10)[\"SepalLengthCm\"]\n",
        "a"
      ],
      "execution_count": null,
      "outputs": [
        {
          "output_type": "execute_result",
          "data": {
            "text/plain": [
              "0    4.6\n",
              "1    5.0\n",
              "2    5.4\n",
              "3    4.9\n",
              "4    5.4\n",
              "5    4.8\n",
              "6    4.8\n",
              "7    4.3\n",
              "8    5.8\n",
              "9    5.4\n",
              "Name: SepalLengthCm, dtype: float64"
            ]
          },
          "metadata": {},
          "execution_count": 84
        }
      ]
    },
    {
      "cell_type": "code",
      "metadata": {
        "colab": {
          "base_uri": "https://localhost:8080/"
        },
        "id": "gPN2PJtHOQ1b",
        "outputId": "d1e9b825-4f16-4a88-8580-364c412f1a33"
      },
      "source": [
        "# Trimming data dengan batas nilai terendah 2 dan batas nilai tinggi 5\n",
        "\n",
        "trims = trima(a, limits=(2,5))\n",
        "\n",
        "# Tampilkan hasil trimming\n",
        "\n",
        "print(trims)"
      ],
      "execution_count": null,
      "outputs": [
        {
          "output_type": "stream",
          "name": "stdout",
          "text": [
            "[4.6 5.0 -- 4.9 -- 4.8 4.8 4.3 -- --]\n"
          ]
        }
      ]
    },
    {
      "cell_type": "code",
      "metadata": {
        "colab": {
          "base_uri": "https://localhost:8080/",
          "height": 359
        },
        "id": "6jHJVy8iOmuD",
        "outputId": "b44481a3-479e-42cd-dcc4-2ac40180f1b4"
      },
      "source": [
        "# Latihan 9\n",
        "# Load data Iris_AfterClean \n",
        "\n",
        "data = pd.read_csv(\"Iris_AfterClean.csv\")\n",
        "\n",
        "# Ambil 10 data teratas SepalLengthCm dan SepalWidthCm\n",
        "\n",
        "data = data.head(10)[[\"SepalLengthCm\", \"SepalWidthCm\"]]\n",
        "data"
      ],
      "execution_count": null,
      "outputs": [
        {
          "output_type": "execute_result",
          "data": {
            "text/html": [
              "<div>\n",
              "<style scoped>\n",
              "    .dataframe tbody tr th:only-of-type {\n",
              "        vertical-align: middle;\n",
              "    }\n",
              "\n",
              "    .dataframe tbody tr th {\n",
              "        vertical-align: top;\n",
              "    }\n",
              "\n",
              "    .dataframe thead th {\n",
              "        text-align: right;\n",
              "    }\n",
              "</style>\n",
              "<table border=\"1\" class=\"dataframe\">\n",
              "  <thead>\n",
              "    <tr style=\"text-align: right;\">\n",
              "      <th></th>\n",
              "      <th>SepalLengthCm</th>\n",
              "      <th>SepalWidthCm</th>\n",
              "    </tr>\n",
              "  </thead>\n",
              "  <tbody>\n",
              "    <tr>\n",
              "      <th>0</th>\n",
              "      <td>4.6</td>\n",
              "      <td>3.1</td>\n",
              "    </tr>\n",
              "    <tr>\n",
              "      <th>1</th>\n",
              "      <td>5.0</td>\n",
              "      <td>3.6</td>\n",
              "    </tr>\n",
              "    <tr>\n",
              "      <th>2</th>\n",
              "      <td>5.4</td>\n",
              "      <td>3.9</td>\n",
              "    </tr>\n",
              "    <tr>\n",
              "      <th>3</th>\n",
              "      <td>4.9</td>\n",
              "      <td>3.1</td>\n",
              "    </tr>\n",
              "    <tr>\n",
              "      <th>4</th>\n",
              "      <td>5.4</td>\n",
              "      <td>3.7</td>\n",
              "    </tr>\n",
              "    <tr>\n",
              "      <th>5</th>\n",
              "      <td>4.8</td>\n",
              "      <td>3.4</td>\n",
              "    </tr>\n",
              "    <tr>\n",
              "      <th>6</th>\n",
              "      <td>4.8</td>\n",
              "      <td>3.0</td>\n",
              "    </tr>\n",
              "    <tr>\n",
              "      <th>7</th>\n",
              "      <td>4.3</td>\n",
              "      <td>3.0</td>\n",
              "    </tr>\n",
              "    <tr>\n",
              "      <th>8</th>\n",
              "      <td>5.8</td>\n",
              "      <td>4.0</td>\n",
              "    </tr>\n",
              "    <tr>\n",
              "      <th>9</th>\n",
              "      <td>5.4</td>\n",
              "      <td>3.9</td>\n",
              "    </tr>\n",
              "  </tbody>\n",
              "</table>\n",
              "</div>"
            ],
            "text/plain": [
              "   SepalLengthCm  SepalWidthCm\n",
              "0            4.6           3.1\n",
              "1            5.0           3.6\n",
              "2            5.4           3.9\n",
              "3            4.9           3.1\n",
              "4            5.4           3.7\n",
              "5            4.8           3.4\n",
              "6            4.8           3.0\n",
              "7            4.3           3.0\n",
              "8            5.8           4.0\n",
              "9            5.4           3.9"
            ]
          },
          "metadata": {},
          "execution_count": 87
        }
      ]
    },
    {
      "cell_type": "code",
      "metadata": {
        "id": "-x-ovhjZOm48"
      },
      "source": [
        "# Menghitung mean\n",
        "means = data.mean(axis = 0)\n",
        "\n",
        "# menghitung max - min\n",
        "max_min = data.max(axis = 0) - data.min(axis = 0)\n",
        "\n",
        "# menerapkan transformasi ke data\n",
        "train_scaled = (data - means) / max_min"
      ],
      "execution_count": null,
      "outputs": []
    },
    {
      "cell_type": "code",
      "metadata": {
        "colab": {
          "base_uri": "https://localhost:8080/",
          "height": 359
        },
        "id": "Mh-CEQrNQJLG",
        "outputId": "82ffb23c-6d3f-47d2-cadd-76bc2d646f8d"
      },
      "source": [
        "# Tampilkan hasil scalling\n",
        "\n",
        "train_scaled"
      ],
      "execution_count": null,
      "outputs": [
        {
          "output_type": "execute_result",
          "data": {
            "text/html": [
              "<div>\n",
              "<style scoped>\n",
              "    .dataframe tbody tr th:only-of-type {\n",
              "        vertical-align: middle;\n",
              "    }\n",
              "\n",
              "    .dataframe tbody tr th {\n",
              "        vertical-align: top;\n",
              "    }\n",
              "\n",
              "    .dataframe thead th {\n",
              "        text-align: right;\n",
              "    }\n",
              "</style>\n",
              "<table border=\"1\" class=\"dataframe\">\n",
              "  <thead>\n",
              "    <tr style=\"text-align: right;\">\n",
              "      <th></th>\n",
              "      <th>SepalLengthCm</th>\n",
              "      <th>SepalWidthCm</th>\n",
              "    </tr>\n",
              "  </thead>\n",
              "  <tbody>\n",
              "    <tr>\n",
              "      <th>0</th>\n",
              "      <td>-0.293333</td>\n",
              "      <td>-0.37</td>\n",
              "    </tr>\n",
              "    <tr>\n",
              "      <th>1</th>\n",
              "      <td>-0.026667</td>\n",
              "      <td>0.13</td>\n",
              "    </tr>\n",
              "    <tr>\n",
              "      <th>2</th>\n",
              "      <td>0.240000</td>\n",
              "      <td>0.43</td>\n",
              "    </tr>\n",
              "    <tr>\n",
              "      <th>3</th>\n",
              "      <td>-0.093333</td>\n",
              "      <td>-0.37</td>\n",
              "    </tr>\n",
              "    <tr>\n",
              "      <th>4</th>\n",
              "      <td>0.240000</td>\n",
              "      <td>0.23</td>\n",
              "    </tr>\n",
              "    <tr>\n",
              "      <th>5</th>\n",
              "      <td>-0.160000</td>\n",
              "      <td>-0.07</td>\n",
              "    </tr>\n",
              "    <tr>\n",
              "      <th>6</th>\n",
              "      <td>-0.160000</td>\n",
              "      <td>-0.47</td>\n",
              "    </tr>\n",
              "    <tr>\n",
              "      <th>7</th>\n",
              "      <td>-0.493333</td>\n",
              "      <td>-0.47</td>\n",
              "    </tr>\n",
              "    <tr>\n",
              "      <th>8</th>\n",
              "      <td>0.506667</td>\n",
              "      <td>0.53</td>\n",
              "    </tr>\n",
              "    <tr>\n",
              "      <th>9</th>\n",
              "      <td>0.240000</td>\n",
              "      <td>0.43</td>\n",
              "    </tr>\n",
              "  </tbody>\n",
              "</table>\n",
              "</div>"
            ],
            "text/plain": [
              "   SepalLengthCm  SepalWidthCm\n",
              "0      -0.293333         -0.37\n",
              "1      -0.026667          0.13\n",
              "2       0.240000          0.43\n",
              "3      -0.093333         -0.37\n",
              "4       0.240000          0.23\n",
              "5      -0.160000         -0.07\n",
              "6      -0.160000         -0.47\n",
              "7      -0.493333         -0.47\n",
              "8       0.506667          0.53\n",
              "9       0.240000          0.43"
            ]
          },
          "metadata": {},
          "execution_count": 89
        }
      ]
    },
    {
      "cell_type": "code",
      "metadata": {
        "colab": {
          "base_uri": "https://localhost:8080/",
          "height": 359
        },
        "id": "l7zLt9ZmQYpu",
        "outputId": "a8212eab-781e-44f4-b866-1aefbac90596"
      },
      "source": [
        "# Load data Iris_AfterClean \n",
        "\n",
        "data = pd.read_csv(\"Iris_AfterClean.csv\")\n",
        "\n",
        "# Ambil 10 data teratas SepalLengthCm dan SepalWidthCm\n",
        "\n",
        "data = data.head(10)[[\"SepalLengthCm\", \"SepalWidthCm\"]]\n",
        "data"
      ],
      "execution_count": null,
      "outputs": [
        {
          "output_type": "execute_result",
          "data": {
            "text/html": [
              "<div>\n",
              "<style scoped>\n",
              "    .dataframe tbody tr th:only-of-type {\n",
              "        vertical-align: middle;\n",
              "    }\n",
              "\n",
              "    .dataframe tbody tr th {\n",
              "        vertical-align: top;\n",
              "    }\n",
              "\n",
              "    .dataframe thead th {\n",
              "        text-align: right;\n",
              "    }\n",
              "</style>\n",
              "<table border=\"1\" class=\"dataframe\">\n",
              "  <thead>\n",
              "    <tr style=\"text-align: right;\">\n",
              "      <th></th>\n",
              "      <th>SepalLengthCm</th>\n",
              "      <th>SepalWidthCm</th>\n",
              "    </tr>\n",
              "  </thead>\n",
              "  <tbody>\n",
              "    <tr>\n",
              "      <th>0</th>\n",
              "      <td>4.6</td>\n",
              "      <td>3.1</td>\n",
              "    </tr>\n",
              "    <tr>\n",
              "      <th>1</th>\n",
              "      <td>5.0</td>\n",
              "      <td>3.6</td>\n",
              "    </tr>\n",
              "    <tr>\n",
              "      <th>2</th>\n",
              "      <td>5.4</td>\n",
              "      <td>3.9</td>\n",
              "    </tr>\n",
              "    <tr>\n",
              "      <th>3</th>\n",
              "      <td>4.9</td>\n",
              "      <td>3.1</td>\n",
              "    </tr>\n",
              "    <tr>\n",
              "      <th>4</th>\n",
              "      <td>5.4</td>\n",
              "      <td>3.7</td>\n",
              "    </tr>\n",
              "    <tr>\n",
              "      <th>5</th>\n",
              "      <td>4.8</td>\n",
              "      <td>3.4</td>\n",
              "    </tr>\n",
              "    <tr>\n",
              "      <th>6</th>\n",
              "      <td>4.8</td>\n",
              "      <td>3.0</td>\n",
              "    </tr>\n",
              "    <tr>\n",
              "      <th>7</th>\n",
              "      <td>4.3</td>\n",
              "      <td>3.0</td>\n",
              "    </tr>\n",
              "    <tr>\n",
              "      <th>8</th>\n",
              "      <td>5.8</td>\n",
              "      <td>4.0</td>\n",
              "    </tr>\n",
              "    <tr>\n",
              "      <th>9</th>\n",
              "      <td>5.4</td>\n",
              "      <td>3.9</td>\n",
              "    </tr>\n",
              "  </tbody>\n",
              "</table>\n",
              "</div>"
            ],
            "text/plain": [
              "   SepalLengthCm  SepalWidthCm\n",
              "0            4.6           3.1\n",
              "1            5.0           3.6\n",
              "2            5.4           3.9\n",
              "3            4.9           3.1\n",
              "4            5.4           3.7\n",
              "5            4.8           3.4\n",
              "6            4.8           3.0\n",
              "7            4.3           3.0\n",
              "8            5.8           4.0\n",
              "9            5.4           3.9"
            ]
          },
          "metadata": {},
          "execution_count": 90
        }
      ]
    },
    {
      "cell_type": "code",
      "metadata": {
        "id": "1q91L_n-QpEG"
      },
      "source": [
        "# import library StandardScaler dari sklearn\n",
        "from sklearn.preprocessing import StandardScaler\n",
        "\n",
        "# Buat objek scaler\n",
        "scaler = StandardScaler()\n",
        "\n",
        "# Sesuaikan scaler dengan data\n",
        "scaler.fit(data)\n",
        "\n",
        "# Mengubah data\n",
        "train_scaled = scaler.transform(data)"
      ],
      "execution_count": null,
      "outputs": []
    },
    {
      "cell_type": "code",
      "metadata": {
        "colab": {
          "base_uri": "https://localhost:8080/"
        },
        "id": "Qyg8f5k4RB3D",
        "outputId": "6e15d5c8-662b-4b83-f913-51285fc89071"
      },
      "source": [
        "# Tampilkan hasil\n",
        "\n",
        "train_scaled"
      ],
      "execution_count": null,
      "outputs": [
        {
          "output_type": "execute_result",
          "data": {
            "text/plain": [
              "array([[-1.02464215, -0.97469723],\n",
              "       [-0.09314929,  0.34246119],\n",
              "       [ 0.83834358,  1.13275625],\n",
              "       [-0.3260225 , -0.97469723],\n",
              "       [ 0.83834358,  0.60589288],\n",
              "       [-0.55889572, -0.18440218],\n",
              "       [-0.55889572, -1.23812892],\n",
              "       [-1.7232618 , -1.23812892],\n",
              "       [ 1.76983644,  1.39618793],\n",
              "       [ 0.83834358,  1.13275625]])"
            ]
          },
          "metadata": {},
          "execution_count": 92
        }
      ]
    }
  ]
}