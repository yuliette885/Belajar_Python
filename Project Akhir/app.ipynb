{
 "cells": [
  {
   "cell_type": "code",
   "execution_count": 3,
   "id": "a45e75d3",
   "metadata": {},
   "outputs": [
    {
     "name": "stdout",
     "output_type": "stream",
     "text": [
      " * Serving Flask app '__main__' (lazy loading)\n",
      " * Environment: production\n",
      "\u001b[31m   WARNING: This is a development server. Do not use it in a production deployment.\u001b[0m\n",
      "\u001b[2m   Use a production WSGI server instead.\u001b[0m\n",
      " * Debug mode: on\n"
     ]
    },
    {
     "name": "stderr",
     "output_type": "stream",
     "text": [
      " * Restarting with watchdog (windowsapi)\n"
     ]
    },
    {
     "ename": "SystemExit",
     "evalue": "1",
     "output_type": "error",
     "traceback": [
      "An exception has occurred, use %tb to see the full traceback.\n",
      "\u001b[1;31mSystemExit\u001b[0m\u001b[1;31m:\u001b[0m 1\n"
     ]
    },
    {
     "name": "stderr",
     "output_type": "stream",
     "text": [
      "c:\\users\\user\\appdata\\local\\programs\\python\\python38-32\\lib\\site-packages\\IPython\\core\\interactiveshell.py:3449: UserWarning: To exit: use 'exit', 'quit', or Ctrl-D.\n",
      "  warn(\"To exit: use 'exit', 'quit', or Ctrl-D.\", stacklevel=1)\n"
     ]
    }
   ],
   "source": [
    "from flask import Flask, request, render_template\n",
    "import pickle\n",
    "\n",
    "app = Flask(__name__)\n",
    "\n",
    "model_file = open('kmeans_model.pkl', 'rb')\n",
    "model = pickle.load(model_file, encoding='bytes')\n",
    "\n",
    "@app.route('/')\n",
    "def index():\n",
    "    return render_template('index.html', insurance_cost=0)\n",
    "\n",
    "@app.route('/cluster', methods=['POST'])\n",
    "def cluster():\n",
    "    '''\n",
    "    Cluster the insurance cost based on user inputs\n",
    "    and render the result to the html page\n",
    "    '''\n",
    "    objek, bulan, jumlah = [x for x in request.form.values()]\n",
    "\n",
    "    data = []\n",
    "    # objek\n",
    "    if objek == \"0\":\n",
    "        data.append(int(objek))\n",
    "    elif objek == \"1\":\n",
    "        data.append(int(objek))\n",
    "    elif objek == \"2\":\n",
    "        data.append(int(objek))\n",
    "    elif objek == \"3\":\n",
    "        data.append(int(objek))\n",
    "    elif objek == \"4\":\n",
    "        data.append(int(objek))\n",
    "    elif objek == \"5\":\n",
    "        data.append(int(objek))\n",
    "    elif objek == \"6\":\n",
    "        data.append(int(objek))\n",
    "    elif objek == \"7\":\n",
    "        data.append(int(objek))\n",
    "    elif objek == \"8\":\n",
    "        data.append(int(objek))\n",
    "    elif objek == \"9\":\n",
    "        data.append(int(objek))\n",
    "    elif objek == \"10\":\n",
    "        data.append(int(objek))\n",
    "    elif objek == \"11\":\n",
    "        data.append(int(objek))\n",
    "    elif objek == \"12\":\n",
    "        data.append(int(objek))\n",
    "    elif objek == \"13\":\n",
    "        data.append(int(objek))\n",
    "    elif objek == \"14\":\n",
    "        data.append(int(objek))\n",
    "    elif objek == \"15\":\n",
    "        data.append(int(objek))\n",
    "    elif objek == \"16\":\n",
    "        data.append(int(objek))\n",
    "    elif objek == \"17\":\n",
    "        data.append(int(objek))\n",
    "    elif objek == \"18\":\n",
    "        data.append(int(objek))\n",
    "    elif objek == \"19\":\n",
    "        data.append(int(objek))\t\n",
    "    # bulan\n",
    "    if bulan == \"0\":\n",
    "        data.append(int(bulan))\n",
    "    elif bulan == \"1\":\n",
    "        data.append(int(bulan))\n",
    "    elif bulan == \"2\":\n",
    "        data.append(int(bulan))\n",
    "    elif bulan == \"3\":\n",
    "        data.append(int(bulan))\n",
    "    elif bulan == \"4\":\n",
    "        data.append(int(bulan))\n",
    "    elif bulan == \"5\":\n",
    "        data.append(int(bulan))\n",
    "    elif bulan == \"6\":\n",
    "        data.append(int(bulan))\n",
    "    # untuk jumlah\n",
    "    data.append(int(jumlah))\n",
    "    # untuk bmi\n",
    "    data.append(int(bmi))\n",
    "        \n",
    "    clustering = model.predict([data])\n",
    "    output = round(clustering[0], 2)\n",
    "\n",
    "    return render_template('index.html', insurance_cost=output)\n",
    "\n",
    "if __name__ == '__main__':\n",
    "    app.run(debug=True)"
   ]
  },
  {
   "cell_type": "code",
   "execution_count": null,
   "id": "b6de935f",
   "metadata": {},
   "outputs": [],
   "source": []
  }
 ],
 "metadata": {
  "kernelspec": {
   "display_name": "Python 3",
   "language": "python",
   "name": "python3"
  },
  "language_info": {
   "codemirror_mode": {
    "name": "ipython",
    "version": 3
   },
   "file_extension": ".py",
   "mimetype": "text/x-python",
   "name": "python",
   "nbconvert_exporter": "python",
   "pygments_lexer": "ipython3",
   "version": "3.8.10"
  }
 },
 "nbformat": 4,
 "nbformat_minor": 5
}
