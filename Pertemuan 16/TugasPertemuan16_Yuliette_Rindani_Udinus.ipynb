{
  "cells": [
    {
      "cell_type": "markdown",
      "metadata": {
        "id": "a0-MRqF5X9cV"
      },
      "source": [
        "![header%20ipynb.png](attachment:header%20ipynb.png)"
      ]
    },
    {
      "cell_type": "markdown",
      "metadata": {
        "id": "Wn_d1cGXX9ca"
      },
      "source": [
        "# Hands-On\n",
        "---\n",
        "\n",
        "Hands-On ini digunakan pada kegiatan Microcredential Associate Data Scientist 2021"
      ]
    },
    {
      "cell_type": "markdown",
      "metadata": {
        "id": "DuWZEgxFX9cb"
      },
      "source": [
        "# Tugas Mandiri Pertemuan 16\n",
        "---\n",
        "Pertemuan 16 (enambelas) pada Microcredential Associate Data Scientist 2021 menyampaikan materi mengenai Membangun model: Evaluasi. silakan Anda kerjakan Latihan 1 s/d 5. Output yang anda lihat merupakan panduan yang dapat Anda ikuti dalam penulisan code :)"
      ]
    },
    {
      "cell_type": "markdown",
      "metadata": {
        "id": "PrQVcF-ldGWQ"
      },
      "source": [
        "<h1> Soal 1: Pemahaman Tentang Model Evaluasi</h1>\n",
        "\n",
        "Jawab pertanyaan di bawah ini dengan bahasa masing-masing?\n",
        "\n",
        "1. Apa perbedaan antara data latih, data validasi, dan data test?\n",
        "2. Bagaimana cara kita menilai performa suatu model?\n",
        "3. Apa itu Confusion Matrix? Jelaskan secara lengkap!\n",
        "4. Apa itu Classification Report dari sklearn?"
      ]
    },
    {
      "cell_type": "markdown",
      "metadata": {
        "id": "sr6D5UIhgpwO"
      },
      "source": [
        "\n",
        " <p style=\"color:#FF0000\">Jawab:</p>\n",
        "\n"
      ]
    },
    {
      "cell_type": "markdown",
      "source": [
        "1.   Perbedaan data latih, data validasi dan data test\n",
        "*   Data latih : Bagian dari kumpulan data tempat model dilatih\n",
        "*   Data validasi : Bagian dari dataset untuk mengevaluasi model selama tahap membangun model\n",
        "*   Data test : Bagian dari kumpulan data untuk mengevaluasi kinerja model keseluruhan akhir\n",
        "\n",
        "\n",
        "2.   Menilai performa suatu model salah satu teknik yang dapat digunakan untuk mengukur kinerja suatu model adalah confusion matrix dengan menghitung nilai akurasinya.\n",
        "\n",
        "3.  Confusion matrix adalah sebuah tabel yang sering digunakan untuk mengukur kinerja dari model klasifikasi di machine learning. Confusion matrix menampilkan dan membandingkan nilai aktual atau nilai sebenarnya dengan nilai hasil prediksi model yang dapat digunakan yakni seperti Accuracy (akurasi), Precision, Recall, dan F1-Score atau F-Measure.\n",
        "\n",
        "4.   Classification Report digunakan untuk menampilkan hasil dari perhitungan confusion matrix (akurasi, Recall, dan F1-Score)\n",
        "\n",
        "\n",
        "\n",
        "\n"
      ],
      "metadata": {
        "id": "7x0MWXtb7LSk"
      }
    },
    {
      "cell_type": "markdown",
      "metadata": {
        "id": "uY-s7-KDgrkV"
      },
      "source": [
        "---"
      ]
    },
    {
      "cell_type": "markdown",
      "metadata": {
        "id": "Fv2TVsgAdGWY"
      },
      "source": [
        "<h1>Soal 2: Aplikasi Model Evaluasi</h1>\n",
        "\n",
        "Kali ini kita akan menggunakan data untuk memprediksi kelangsungan hidup pasien yang telah mengalami operasi payudara. Dengan informasi yang dimiliki terkait pasien, kita akan membuat model untuk memprediksi apakah pasien akan bertahan hidup dalam waktu lebih dari 5 tahun atau tidak.\n",
        "\n",
        "Lebih Lengkapnya kalian bisa membaca informasi tentang dataset di link berikut: https://raw.githubusercontent.com/jbrownlee/Datasets/master/haberman.names\n",
        "\n",
        "Buat model Klasifikasi (Model/Algoritma Bebas) untuk memprediksi status pasien dengan ketentuan sebagai berikut:\n",
        "\n",
        "1. Bagi kedua data ini menjadi data training dan data test dengan test_size=0.25.\n",
        "3. Pelajar tentang metrics roc_auc_score kemudian buatlah model dan evaluasi dengan menggunakan teknik cross-validation dengan scoring 'roc_auc'. Baca https://scikit-learn.org/stable/modules/generated/sklearn.model_selection.cross_val_score.html untuk menggunakan metric roc_auc saat cross-validation.\n",
        "3. Berapa score rata2 dari model dengan teknik cross-validation tersebut?\n",
        "4. Prediksi data test dengan model yang telah kalian buat!\n",
        "5. Bagaimana hasil confusion matrix dari hasil prediksi tersebut?\n",
        "6. Bagaimana classification report dari hasil prediksi tersebut?\n",
        "5. Seberapa baik model anda dalam memprediksi seorang pasien mempunyai status positive?\n",
        "6. Seberapa baik model anda dalam memprediksi seorang pasien mempunyai status negatif?"
      ]
    },
    {
      "cell_type": "markdown",
      "metadata": {
        "id": "FXGBnen1X9ce"
      },
      "source": [
        "### Load Dataset "
      ]
    },
    {
      "cell_type": "code",
      "execution_count": 1,
      "metadata": {
        "id": "l_zK8Mqb-9Z6"
      },
      "outputs": [],
      "source": [
        "# import library pandas\n",
        "import pandas as pd\n",
        "\n",
        "# Load Dataset\n",
        "url = 'https://raw.githubusercontent.com/jbrownlee/Datasets/master/haberman.csv'\n",
        "list_cols = ['Age', \"Patient's Years\", \"N_positive_ax\", \"survival_status\"]\n",
        "df = pd.read_csv(url, names=list_cols)"
      ]
    },
    {
      "cell_type": "code",
      "execution_count": 2,
      "metadata": {
        "colab": {
          "base_uri": "https://localhost:8080/",
          "height": 206
        },
        "id": "YrbPNGtHdGXV",
        "outputId": "f3253504-ec50-43a5-b71a-431f5144c141"
      },
      "outputs": [
        {
          "output_type": "execute_result",
          "data": {
            "text/html": [
              "<div>\n",
              "<style scoped>\n",
              "    .dataframe tbody tr th:only-of-type {\n",
              "        vertical-align: middle;\n",
              "    }\n",
              "\n",
              "    .dataframe tbody tr th {\n",
              "        vertical-align: top;\n",
              "    }\n",
              "\n",
              "    .dataframe thead th {\n",
              "        text-align: right;\n",
              "    }\n",
              "</style>\n",
              "<table border=\"1\" class=\"dataframe\">\n",
              "  <thead>\n",
              "    <tr style=\"text-align: right;\">\n",
              "      <th></th>\n",
              "      <th>Age</th>\n",
              "      <th>Patient's Years</th>\n",
              "      <th>N_positive_ax</th>\n",
              "      <th>survival_status</th>\n",
              "    </tr>\n",
              "  </thead>\n",
              "  <tbody>\n",
              "    <tr>\n",
              "      <th>0</th>\n",
              "      <td>30</td>\n",
              "      <td>64</td>\n",
              "      <td>1</td>\n",
              "      <td>1</td>\n",
              "    </tr>\n",
              "    <tr>\n",
              "      <th>1</th>\n",
              "      <td>30</td>\n",
              "      <td>62</td>\n",
              "      <td>3</td>\n",
              "      <td>1</td>\n",
              "    </tr>\n",
              "    <tr>\n",
              "      <th>2</th>\n",
              "      <td>30</td>\n",
              "      <td>65</td>\n",
              "      <td>0</td>\n",
              "      <td>1</td>\n",
              "    </tr>\n",
              "    <tr>\n",
              "      <th>3</th>\n",
              "      <td>31</td>\n",
              "      <td>59</td>\n",
              "      <td>2</td>\n",
              "      <td>1</td>\n",
              "    </tr>\n",
              "    <tr>\n",
              "      <th>4</th>\n",
              "      <td>31</td>\n",
              "      <td>65</td>\n",
              "      <td>4</td>\n",
              "      <td>1</td>\n",
              "    </tr>\n",
              "  </tbody>\n",
              "</table>\n",
              "</div>"
            ],
            "text/plain": [
              "   Age  Patient's Years  N_positive_ax  survival_status\n",
              "0   30               64              1                1\n",
              "1   30               62              3                1\n",
              "2   30               65              0                1\n",
              "3   31               59              2                1\n",
              "4   31               65              4                1"
            ]
          },
          "metadata": {},
          "execution_count": 2
        }
      ],
      "source": [
        "# tampilkan 5 baris awal dataset dengan function head()\n",
        "df.head()"
      ]
    },
    {
      "cell_type": "code",
      "execution_count": 3,
      "metadata": {
        "colab": {
          "base_uri": "https://localhost:8080/"
        },
        "id": "-dxYNPg7dGX4",
        "outputId": "de8bf6f9-ded0-4860-cc6b-870f8d78a0e8"
      },
      "outputs": [
        {
          "output_type": "execute_result",
          "data": {
            "text/plain": [
              "1    225\n",
              "2     81\n",
              "Name: survival_status, dtype: int64"
            ]
          },
          "metadata": {},
          "execution_count": 3
        }
      ],
      "source": [
        "# hitung jumlah masing\" data pada kolom survival_status\n",
        "df['survival_status'].value_counts()"
      ]
    },
    {
      "cell_type": "markdown",
      "metadata": {
        "id": "fUUyGUB2X9ck"
      },
      "source": [
        "### Build Model"
      ]
    },
    {
      "cell_type": "code",
      "execution_count": 4,
      "metadata": {
        "id": "8W2amvZgdGYX"
      },
      "outputs": [],
      "source": [
        "#import library train test split dan cross val\n",
        "from sklearn.model_selection import train_test_split, cross_val_score\n",
        "\n",
        "#import library Logistic regression\n",
        "from sklearn.linear_model import LogisticRegression\n",
        "\n",
        "#import library roc auc score\n",
        "from sklearn.metrics import roc_auc_score\n",
        "\n",
        "#import library scale\n",
        "from sklearn.preprocessing import scale\n",
        "\n",
        "#import library numpy\n",
        "import numpy as np"
      ]
    },
    {
      "cell_type": "code",
      "execution_count": 5,
      "metadata": {
        "id": "21slblBKX9cl"
      },
      "outputs": [],
      "source": [
        "## pemisahan feature dan target (data target : 'survival_status')\n",
        "X = df.drop('survival_status', axis = 1)\n",
        "Xs = scale(X)\n",
        "y = df['survival_status']"
      ]
    },
    {
      "cell_type": "markdown",
      "metadata": {
        "id": "FWGHR9YMX9cm"
      },
      "source": [
        "#### NO 1"
      ]
    },
    {
      "cell_type": "code",
      "execution_count": 6,
      "metadata": {
        "id": "g1eHuS9WX9cm"
      },
      "outputs": [],
      "source": [
        "## pemisahan variabel test dan train dari data Xs dan y\n",
        "# test size= 25%, random state = 42, dan stratify = y\n",
        "X_train,X_test,y_train,y_test = train_test_split(X,y,test_size=0.25,random_state=42)"
      ]
    },
    {
      "cell_type": "code",
      "execution_count": 7,
      "metadata": {
        "id": "jjwkRuH2X9cn"
      },
      "outputs": [],
      "source": [
        "## pembuatan objek model\n",
        "model_logReg = LogisticRegression(random_state = 42)\n",
        "\n",
        "## latih model\n",
        "model_logReg.fit(X_train, y_train)\n",
        "\n",
        "## prediksi.\n",
        "y_predict = model_logReg.predict(X_test)"
      ]
    },
    {
      "cell_type": "markdown",
      "metadata": {
        "id": "3gEhnPk5X9cn"
      },
      "source": [
        "#### NO 2"
      ]
    },
    {
      "cell_type": "code",
      "execution_count": 8,
      "metadata": {
        "colab": {
          "base_uri": "https://localhost:8080/"
        },
        "outputId": "97c954d0-6f4b-4d04-9de3-71e59171dcec",
        "id": "blllUm_gX9co"
      },
      "outputs": [
        {
          "output_type": "stream",
          "name": "stdout",
          "text": [
            "[0.44021739 0.80978261 0.67391304 0.69021739 0.70380435 0.79292929\n",
            " 0.875      0.62784091 0.67613636 0.61363636]\n"
          ]
        }
      ],
      "source": [
        "## menghitung cross_val_score dengan scoring = 'roc_auc'\n",
        "## parameter cv = 10 \n",
        "score = cross_val_score(model_logReg, X, y, scoring = 'roc_auc', cv = 10)\n",
        "print(score)"
      ]
    },
    {
      "cell_type": "markdown",
      "metadata": {
        "id": "S0BPPOvlX9co"
      },
      "source": [
        "#### NO 3"
      ]
    },
    {
      "cell_type": "code",
      "execution_count": 9,
      "metadata": {
        "colab": {
          "base_uri": "https://localhost:8080/"
        },
        "id": "LedKNcvNeQqt",
        "outputId": "efa43c67-74cb-4451-828d-064e7bbb7a7e"
      },
      "outputs": [
        {
          "output_type": "execute_result",
          "data": {
            "text/plain": [
              "0.6903477711901624"
            ]
          },
          "metadata": {},
          "execution_count": 9
        }
      ],
      "source": [
        "# cetak rata-rata nilai rata-rata auc score\n",
        "score.mean()"
      ]
    },
    {
      "cell_type": "markdown",
      "metadata": {
        "id": "Ncf5zyAuX9cp"
      },
      "source": [
        "#### NO 4"
      ]
    },
    {
      "cell_type": "code",
      "execution_count": 10,
      "metadata": {
        "colab": {
          "base_uri": "https://localhost:8080/"
        },
        "id": "sgIgntc9eTh5",
        "outputId": "305eccd1-6383-4eb9-9dc7-7412072f0fa0",
        "scrolled": true
      },
      "outputs": [
        {
          "output_type": "execute_result",
          "data": {
            "text/plain": [
              "0.5681818181818182"
            ]
          },
          "metadata": {},
          "execution_count": 10
        }
      ],
      "source": [
        "# Prediksi data test dengan model yang telah kalian buat \n",
        "auc_score = roc_auc_score(y_test, y_predict)\n",
        "auc_score"
      ]
    },
    {
      "cell_type": "markdown",
      "metadata": {
        "id": "XYEbkoVIX9cq"
      },
      "source": [
        "#### NO 5"
      ]
    },
    {
      "cell_type": "code",
      "execution_count": 11,
      "metadata": {
        "id": "e23bVSGteUQV"
      },
      "outputs": [],
      "source": [
        "# import library confusion matrix dan classification report\n",
        "from sklearn.metrics import classification_report, confusion_matrix"
      ]
    },
    {
      "cell_type": "code",
      "execution_count": 12,
      "metadata": {
        "colab": {
          "base_uri": "https://localhost:8080/"
        },
        "id": "rDqvvhZUeai_",
        "outputId": "7d0dea2c-7b90-4cec-bb06-d6ef7c0ed6b3"
      },
      "outputs": [
        {
          "output_type": "execute_result",
          "data": {
            "text/plain": [
              "array([[50,  5],\n",
              "       [17,  5]])"
            ]
          },
          "metadata": {},
          "execution_count": 12
        }
      ],
      "source": [
        "# apply confusion matrix dan cetak nilai confusion matrix\n",
        "cm = confusion_matrix(y_test, y_predict, labels = (1,2))\n",
        "cm"
      ]
    },
    {
      "cell_type": "code",
      "execution_count": 13,
      "metadata": {
        "colab": {
          "base_uri": "https://localhost:8080/",
          "height": 269
        },
        "id": "fRPDkkP-X9cs",
        "outputId": "960c24a5-d4fe-400b-9ac0-bdeba73df23e"
      },
      "outputs": [
        {
          "output_type": "display_data",
          "data": {
            "image/png": "[encoded data removed]",
            "text/plain": [
              "<Figure size 432x288 with 2 Axes>"
            ]
          },
          "metadata": {
            "needs_background": "light"
          }
        }
      ],
      "source": [
        "# visualisasikan nilai confusion matrix ke dalam diagram heatmap\n",
        "import seaborn as sns\n",
        "import matplotlib.pyplot as plt     \n",
        "\n",
        "ax= plt.subplot()\n",
        "sns.heatmap(cm, annot=True, fmt='g', ax=ax);"
      ]
    },
    {
      "cell_type": "markdown",
      "metadata": {
        "id": "PWtx5Ya5X9cs"
      },
      "source": [
        "#### NO 6"
      ]
    },
    {
      "cell_type": "code",
      "execution_count": 14,
      "metadata": {
        "colab": {
          "base_uri": "https://localhost:8080/"
        },
        "id": "gTrzFq28ehP1",
        "outputId": "d6f8a612-8d6d-4459-fed2-18b127ef9a90"
      },
      "outputs": [
        {
          "output_type": "stream",
          "name": "stdout",
          "text": [
            "              precision    recall  f1-score   support\n",
            "\n",
            "           1       0.75      0.91      0.82        55\n",
            "           2       0.50      0.23      0.31        22\n",
            "\n",
            "    accuracy                           0.71        77\n",
            "   macro avg       0.62      0.57      0.57        77\n",
            "weighted avg       0.68      0.71      0.67        77\n",
            "\n"
          ]
        }
      ],
      "source": [
        "# cetak nilai classification_report\n",
        "print(classification_report(y_test, y_predict))"
      ]
    },
    {
      "cell_type": "markdown",
      "metadata": {
        "id": "NFZBtn6_X9ct"
      },
      "source": [
        "#### NO 7"
      ]
    },
    {
      "cell_type": "markdown",
      "metadata": {
        "id": "1rm8SxlrenkO"
      },
      "source": [
        "- Bagaimana hasil confusion matrix dari hasil prediksi tersebut? <br>\n",
        " *jawab disini*\n",
        " \n",
        " \n",
        "- Bagaimana classification report dari hasil prediksi tersebut? <br>\n",
        " *jawab disini*\n",
        " \n",
        " \n",
        "- Seberapa baik model anda dalam memprediksi seorang pasien mempunyai status positive? dari hasil classification_report diatas <br>\n",
        " *jawab disini*\n",
        " \n",
        " \n",
        "- Seberapa baik model anda dalam memprediksi seorang pasien mempunyai status negatif? dari hasil classification_report diatas<br>\n",
        " *jawab disini*"
      ]
    },
    {
      "cell_type": "markdown",
      "source": [
        "*   Hasil Confusion Matrix : dari confusion matrix diatas dari 10 positif, model memprediksi ada 50 diprediksi negatif, dan dari 67 negatif, model memprediksi ada 17 diprediksi positif.\n",
        "*   Hasil classification report : dari classification report menunjukkan pada hasil tinggi pada baris 1 dengan presisi 0.75, recall 0.91, f1-score 0.82, dan support 55. \n",
        "*   prediksi positif 17\n",
        "*   prediksi negatif 50\n"
      ],
      "metadata": {
        "id": "QvZproTVNdUs"
      }
    },
    {
      "cell_type": "markdown",
      "metadata": {
        "id": "I6v_dgoN-7wL"
      },
      "source": [
        "---"
      ]
    },
    {
      "cell_type": "markdown",
      "metadata": {
        "id": "teekoyIw--g2"
      },
      "source": [
        "<h1> Soal 3: Pemahaman Tentang Model Selection</h1>\n",
        "\n",
        "Jelaskan dengan bahasa sendiri!\n",
        "\n",
        "1. Apa itu Bias dan Variance?\n",
        "2. Apa itu Overfitting dan Underfitting?\n",
        "3. Apa yang bisa kita lakukan untuk mengatur kompleksitas dari model?\n",
        "4. Bagaimana model yang baik?\n",
        "5. Kapan kita menggunakan GridSearchcv dan kapan menggunakan RandomizedSearchCV?"
      ]
    },
    {
      "cell_type": "markdown",
      "metadata": {
        "id": "4a1l4RNf_FcU"
      },
      "source": [
        "\n",
        " <p style=\"color:#FF0000\">Jawab</p>\n",
        "\n",
        "\n"
      ]
    },
    {
      "cell_type": "markdown",
      "source": [
        "1.   Bias : teknik algoritma machine learning untuk melakukan penyederhanaan dalam mempelajari kumpulan data dengan tidak mempertimbangkan semua informasi.\n",
        "Variance : variabilitas dalam prediksi model\n",
        "\n",
        "2.   Overfitting : penyimpangan data dari kenyataan disebabkan karena kesalahan pengukuran, faktor acak yang berpengaruh, variabel yang tidak teramati, dan korelasi sampah\n",
        "Underfitting : masalah yang berlawanan, di mana model gagal mengenali kompleksitas nyata dalam data\n",
        "\n",
        "3.   Untuk mengatur kompleksitas dari model denan meningkatkan fitur masukan yang akan menyebabkan overfitting\n",
        "\n",
        "4.   Model yang baik adalah model yang bisa menjelaskan data tanpa terpengaruh oleh data noise\n",
        "\n",
        "5.   Grid Search dapat digunakan jika data bekerja dengan jumlah kecil pada hyperparameter. Namun, jika jumlah parameter sangat tinggi dan besarnya pengaruh tidak seimbang, pilihan yang lebih baik adalah menggunakan Pencarian Acak."
      ],
      "metadata": {
        "id": "DNohHMjPDrkg"
      }
    },
    {
      "cell_type": "markdown",
      "metadata": {
        "id": "Svj_cgxF_IZv"
      },
      "source": [
        "---"
      ]
    },
    {
      "cell_type": "markdown",
      "metadata": {
        "id": "Hkh-PeRL_LZp"
      },
      "source": [
        "<h1> Soal 4: Aplikasi Model Selection</h1>\n",
        "\n",
        "1. Bagi kedua data berikut ini menjadi data training dan data test dengan test_size=0.25.\n",
        "2. Import library KNN dan GridSearchCV.\n",
        "3. Gunakan algoritma KNN dan fungsi GridSearchCV untuk hyperparameter tuning dan model selection.\n",
        "4. jumlah fold bebas!, gunakan scoring 'roc_auc'\n",
        "5. Definisikan kombinasi hyperparameter untuk model selection dengan GridSearchCV. kombinasi Hyperparameter bebas, baca lagi dokumentasi KNN di link berikut https://scikit-learn.org/stable/modules/generated/sklearn.neighbors.KNeighborsClassifier.html untuk memahami lagi jenis2 hyperparameter di algorithma KNN.\n",
        "6. Latih model terhadap data training.\n",
        "7. Apa hyperparameter terbaik untuk kombinasi hyperparameter kalian?\n",
        "8. Berapa score validasi terbaik dari model tersebut?\n",
        "9. Prediksi probabilitasi output dari model yang telah di buat terhadap data test. note : gunakan method .predict_proba() untuk menghasilkan output probabilitas\n",
        "\n",
        "10. Berapa nilai score roc_auc untuk data test? (y_predict)\n",
        "11. Apakah model anda termasuk baik, overtting, atau underfitting?\n"
      ]
    },
    {
      "cell_type": "markdown",
      "metadata": {
        "id": "bxE3Ot7lX9cw"
      },
      "source": [
        "### Load Dataset "
      ]
    },
    {
      "cell_type": "code",
      "execution_count": 15,
      "metadata": {
        "id": "RYNTBmt2X9cw"
      },
      "outputs": [],
      "source": [
        "# import library pandas\n",
        "import pandas as pd\n",
        "\n",
        "# Load Dataset\n",
        "url = 'https://raw.githubusercontent.com/jbrownlee/Datasets/master/haberman.csv'\n",
        "list_cols = ['Age', \"Patient's Years\", \"N_positive_ax\", \"survival_status\"]\n",
        "df2 = pd.read_csv(url, names=list_cols)"
      ]
    },
    {
      "cell_type": "code",
      "execution_count": 16,
      "metadata": {
        "colab": {
          "base_uri": "https://localhost:8080/",
          "height": 206
        },
        "id": "qb-AD43R_V_d",
        "outputId": "f4ede742-bfc3-4c93-b6da-4257c5ba9f76"
      },
      "outputs": [
        {
          "output_type": "execute_result",
          "data": {
            "text/html": [
              "<div>\n",
              "<style scoped>\n",
              "    .dataframe tbody tr th:only-of-type {\n",
              "        vertical-align: middle;\n",
              "    }\n",
              "\n",
              "    .dataframe tbody tr th {\n",
              "        vertical-align: top;\n",
              "    }\n",
              "\n",
              "    .dataframe thead th {\n",
              "        text-align: right;\n",
              "    }\n",
              "</style>\n",
              "<table border=\"1\" class=\"dataframe\">\n",
              "  <thead>\n",
              "    <tr style=\"text-align: right;\">\n",
              "      <th></th>\n",
              "      <th>Age</th>\n",
              "      <th>Patient's Years</th>\n",
              "      <th>N_positive_ax</th>\n",
              "      <th>survival_status</th>\n",
              "    </tr>\n",
              "  </thead>\n",
              "  <tbody>\n",
              "    <tr>\n",
              "      <th>0</th>\n",
              "      <td>30</td>\n",
              "      <td>64</td>\n",
              "      <td>1</td>\n",
              "      <td>1</td>\n",
              "    </tr>\n",
              "    <tr>\n",
              "      <th>1</th>\n",
              "      <td>30</td>\n",
              "      <td>62</td>\n",
              "      <td>3</td>\n",
              "      <td>1</td>\n",
              "    </tr>\n",
              "    <tr>\n",
              "      <th>2</th>\n",
              "      <td>30</td>\n",
              "      <td>65</td>\n",
              "      <td>0</td>\n",
              "      <td>1</td>\n",
              "    </tr>\n",
              "    <tr>\n",
              "      <th>3</th>\n",
              "      <td>31</td>\n",
              "      <td>59</td>\n",
              "      <td>2</td>\n",
              "      <td>1</td>\n",
              "    </tr>\n",
              "    <tr>\n",
              "      <th>4</th>\n",
              "      <td>31</td>\n",
              "      <td>65</td>\n",
              "      <td>4</td>\n",
              "      <td>1</td>\n",
              "    </tr>\n",
              "  </tbody>\n",
              "</table>\n",
              "</div>"
            ],
            "text/plain": [
              "   Age  Patient's Years  N_positive_ax  survival_status\n",
              "0   30               64              1                1\n",
              "1   30               62              3                1\n",
              "2   30               65              0                1\n",
              "3   31               59              2                1\n",
              "4   31               65              4                1"
            ]
          },
          "metadata": {},
          "execution_count": 16
        }
      ],
      "source": [
        "# tampilkan 5 baris awal dataset dengan function head()\n",
        "df2.head()"
      ]
    },
    {
      "cell_type": "code",
      "execution_count": 17,
      "metadata": {
        "colab": {
          "base_uri": "https://localhost:8080/"
        },
        "id": "znc1dEGO_XU2",
        "outputId": "b1ea663a-5d7e-4002-999f-e8119b60b0fe"
      },
      "outputs": [
        {
          "output_type": "execute_result",
          "data": {
            "text/plain": [
              "1    225\n",
              "2     81\n",
              "Name: survival_status, dtype: int64"
            ]
          },
          "metadata": {},
          "execution_count": 17
        }
      ],
      "source": [
        "# hitung jumlah masing\" data pada kolom survival_status\n",
        "df2['survival_status'].value_counts()"
      ]
    },
    {
      "cell_type": "markdown",
      "metadata": {
        "id": "xsc81QOxX9cy"
      },
      "source": [
        "#### NO 1"
      ]
    },
    {
      "cell_type": "code",
      "execution_count": 18,
      "metadata": {
        "id": "RZmjEbcie33S"
      },
      "outputs": [],
      "source": [
        "# 1. pembagian variabel train dan test\n",
        "# test size= 25%, random state = 42, dan stratify = y\n",
        "X = df2.drop('survival_status', axis = 1)\n",
        "y = df2['survival_status']\n",
        "\n",
        "X_train,X_test,y_train,y_test = train_test_split(X,y,test_size=0.25,random_state=42)"
      ]
    },
    {
      "cell_type": "markdown",
      "metadata": {
        "id": "egXZSfakX9cy"
      },
      "source": [
        "#### NO 2"
      ]
    },
    {
      "cell_type": "code",
      "execution_count": 19,
      "metadata": {
        "id": "3uWlk8JLfFVE"
      },
      "outputs": [],
      "source": [
        "# 2. import library KNN dan GridSearchCv\n",
        "from sklearn.neighbors import KNeighborsClassifier\n",
        "from sklearn.model_selection import GridSearchCV"
      ]
    },
    {
      "cell_type": "markdown",
      "metadata": {
        "id": "G04LXOGBX9cz"
      },
      "source": [
        "#### NO 3 - 6"
      ]
    },
    {
      "cell_type": "code",
      "execution_count": 20,
      "metadata": {
        "colab": {
          "base_uri": "https://localhost:8080/"
        },
        "id": "VNqpbE6cfJO_",
        "outputId": "1b770ae9-f229-4639-e0d3-e326a5d96460"
      },
      "outputs": [
        {
          "output_type": "execute_result",
          "data": {
            "text/plain": [
              "GridSearchCV(cv=10, estimator=KNeighborsClassifier(),\n",
              "             param_grid={'n_neighbors': array([ 3,  4,  5,  6,  7,  8,  9, 10, 11, 12, 13, 14, 15, 16, 17, 18, 19,\n",
              "       20, 21, 22, 23, 24, 25, 26, 27, 28, 29, 30, 31, 32, 33, 34, 35, 36,\n",
              "       37, 38, 39, 40, 41, 42, 43, 44, 45, 46, 47, 48, 49, 50]),\n",
              "                         'weights': ['uniform', 'distance']},\n",
              "             scoring='roc_auc')"
            ]
          },
          "metadata": {},
          "execution_count": 20
        }
      ],
      "source": [
        "# 3. tuning hyperparameter dengan GridSearchCV (parameter cv=10)\n",
        "## build model KNN\n",
        "model_knn = KNeighborsClassifier()\n",
        "param_grid = {'n_neighbors' : np.arange(3,51), 'weights' : ['uniform','distance']}\n",
        "gscv = GridSearchCV(model_knn, param_grid, scoring='roc_auc', cv = 10)\n",
        "gscv.fit(X_train, y_train)"
      ]
    },
    {
      "cell_type": "markdown",
      "metadata": {
        "id": "2YlS0Z7SX9c0"
      },
      "source": [
        "#### NO 7"
      ]
    },
    {
      "cell_type": "code",
      "execution_count": 21,
      "metadata": {
        "colab": {
          "base_uri": "https://localhost:8080/"
        },
        "id": "MSfTj3VGfL6R",
        "outputId": "4f286cec-1aee-407d-8710-d90d0fc6f4eb"
      },
      "outputs": [
        {
          "output_type": "execute_result",
          "data": {
            "text/plain": [
              "{'n_neighbors': 20, 'weights': 'uniform'}"
            ]
          },
          "metadata": {},
          "execution_count": 21
        }
      ],
      "source": [
        "# 7. parameter terbaik\n",
        "gscv.best_params_"
      ]
    },
    {
      "cell_type": "markdown",
      "metadata": {
        "id": "vyuhR5pZX9c0"
      },
      "source": [
        "#### NO 8"
      ]
    },
    {
      "cell_type": "code",
      "execution_count": 22,
      "metadata": {
        "colab": {
          "base_uri": "https://localhost:8080/"
        },
        "id": "xhqfzxUffQBY",
        "outputId": "e7676661-d4a9-48d6-d119-f379659bab82"
      },
      "outputs": [
        {
          "output_type": "execute_result",
          "data": {
            "text/plain": [
              "0.7268627450980393"
            ]
          },
          "metadata": {},
          "execution_count": 22
        }
      ],
      "source": [
        "# 8. score validasi terbaik\n",
        "gscv.best_score_"
      ]
    },
    {
      "cell_type": "markdown",
      "metadata": {
        "id": "UdIc5eKgX9c1"
      },
      "source": [
        "#### NO 9"
      ]
    },
    {
      "cell_type": "code",
      "execution_count": 23,
      "metadata": {
        "id": "X5tQh4IufRpF",
        "scrolled": true,
        "colab": {
          "base_uri": "https://localhost:8080/"
        },
        "outputId": "ae842e40-8ddd-44e3-aef1-9f2e9aa7ea83"
      },
      "outputs": [
        {
          "output_type": "execute_result",
          "data": {
            "text/plain": [
              "array([[0.9 , 0.1 ],\n",
              "       [0.95, 0.05],\n",
              "       [0.8 , 0.2 ],\n",
              "       [0.95, 0.05],\n",
              "       [0.7 , 0.3 ],\n",
              "       [0.45, 0.55],\n",
              "       [0.85, 0.15],\n",
              "       [0.75, 0.25],\n",
              "       [0.4 , 0.6 ],\n",
              "       [0.8 , 0.2 ],\n",
              "       [0.9 , 0.1 ],\n",
              "       [0.75, 0.25],\n",
              "       [0.7 , 0.3 ],\n",
              "       [0.35, 0.65],\n",
              "       [0.9 , 0.1 ],\n",
              "       [0.9 , 0.1 ],\n",
              "       [0.9 , 0.1 ],\n",
              "       [0.9 , 0.1 ],\n",
              "       [0.5 , 0.5 ],\n",
              "       [0.8 , 0.2 ],\n",
              "       [0.8 , 0.2 ],\n",
              "       [0.9 , 0.1 ],\n",
              "       [0.85, 0.15],\n",
              "       [0.95, 0.05],\n",
              "       [0.75, 0.25],\n",
              "       [0.9 , 0.1 ],\n",
              "       [1.  , 0.  ],\n",
              "       [0.8 , 0.2 ],\n",
              "       [0.65, 0.35],\n",
              "       [0.65, 0.35],\n",
              "       [0.95, 0.05],\n",
              "       [0.45, 0.55],\n",
              "       [0.85, 0.15],\n",
              "       [0.75, 0.25],\n",
              "       [0.85, 0.15],\n",
              "       [0.7 , 0.3 ],\n",
              "       [0.7 , 0.3 ],\n",
              "       [0.75, 0.25],\n",
              "       [0.55, 0.45],\n",
              "       [0.9 , 0.1 ],\n",
              "       [0.4 , 0.6 ],\n",
              "       [0.7 , 0.3 ],\n",
              "       [0.4 , 0.6 ],\n",
              "       [0.85, 0.15],\n",
              "       [1.  , 0.  ],\n",
              "       [0.8 , 0.2 ],\n",
              "       [0.9 , 0.1 ],\n",
              "       [0.7 , 0.3 ],\n",
              "       [0.85, 0.15],\n",
              "       [0.8 , 0.2 ],\n",
              "       [0.4 , 0.6 ],\n",
              "       [0.85, 0.15],\n",
              "       [0.85, 0.15],\n",
              "       [0.75, 0.25],\n",
              "       [1.  , 0.  ],\n",
              "       [0.45, 0.55],\n",
              "       [0.65, 0.35],\n",
              "       [0.8 , 0.2 ],\n",
              "       [0.65, 0.35],\n",
              "       [1.  , 0.  ],\n",
              "       [0.9 , 0.1 ],\n",
              "       [0.65, 0.35],\n",
              "       [0.75, 0.25],\n",
              "       [0.75, 0.25],\n",
              "       [0.45, 0.55],\n",
              "       [0.9 , 0.1 ],\n",
              "       [0.5 , 0.5 ],\n",
              "       [0.75, 0.25],\n",
              "       [1.  , 0.  ],\n",
              "       [0.55, 0.45],\n",
              "       [0.75, 0.25],\n",
              "       [0.7 , 0.3 ],\n",
              "       [0.4 , 0.6 ],\n",
              "       [0.8 , 0.2 ],\n",
              "       [0.85, 0.15],\n",
              "       [0.9 , 0.1 ],\n",
              "       [0.95, 0.05]])"
            ]
          },
          "metadata": {},
          "execution_count": 23
        }
      ],
      "source": [
        "# 9. prediksikan probabilitas masing-masing data test\n",
        "y_predict = gscv.predict_proba(X_test)\n",
        "y_predict"
      ]
    },
    {
      "cell_type": "code",
      "execution_count": 24,
      "metadata": {
        "colab": {
          "base_uri": "https://localhost:8080/"
        },
        "id": "YxXGHsmmX9c2",
        "outputId": "17919576-c10c-4172-81c0-6b47b1b57e57"
      },
      "outputs": [
        {
          "output_type": "execute_result",
          "data": {
            "text/plain": [
              "0.5"
            ]
          },
          "metadata": {},
          "execution_count": 24
        }
      ],
      "source": [
        "# nilai rata-rata probabilitas data test\n",
        "y_predict.mean()"
      ]
    },
    {
      "cell_type": "markdown",
      "metadata": {
        "id": "C9vV4xVWX9c2"
      },
      "source": [
        "#### NO 10"
      ]
    },
    {
      "cell_type": "code",
      "execution_count": 25,
      "metadata": {
        "colab": {
          "base_uri": "https://localhost:8080/"
        },
        "id": "sUMrtvGUfWcn",
        "outputId": "57c3bca4-e190-43ec-bfe1-265dbe458fe3"
      },
      "outputs": [
        {
          "output_type": "stream",
          "name": "stdout",
          "text": [
            "[0.1  0.05 0.2  0.05 0.3  0.55 0.15 0.25 0.6  0.2  0.1  0.25 0.3  0.65\n",
            " 0.1  0.1  0.1  0.1  0.5  0.2  0.2  0.1  0.15 0.05 0.25 0.1  0.   0.2\n",
            " 0.35 0.35 0.05 0.55 0.15 0.25 0.15 0.3  0.3  0.25 0.45 0.1  0.6  0.3\n",
            " 0.6  0.15 0.   0.2  0.1  0.3  0.15 0.2  0.6  0.15 0.15 0.25 0.   0.55\n",
            " 0.35 0.2  0.35 0.   0.1  0.35 0.25 0.25 0.55 0.1  0.5  0.25 0.   0.45\n",
            " 0.25 0.3  0.6  0.2  0.15 0.1  0.05]\n"
          ]
        }
      ],
      "source": [
        "# 10. nilai score roc_auc \n",
        "kurang_5th = gscv.predict_proba(X_test)[:,1]\n",
        "print(kurang_5th)"
      ]
    },
    {
      "cell_type": "markdown",
      "metadata": {
        "id": "2cpeyNwUX9c3"
      },
      "source": [
        "#### NO 11 "
      ]
    },
    {
      "cell_type": "markdown",
      "metadata": {
        "id": "mHjZmxFyfejG"
      },
      "source": [
        " <p style=\"color:#FF0000\">Jawab</p>\n"
      ]
    },
    {
      "cell_type": "markdown",
      "source": [
        "Baik"
      ],
      "metadata": {
        "id": "j0ShnvlhJWyQ"
      }
    },
    {
      "cell_type": "markdown",
      "metadata": {
        "id": "UQ2J7fHxX9c4"
      },
      "source": [
        "<h1> Soal 5: </h1>\n",
        "\n",
        "\n",
        "1. Ulangi tahap di atas (soal 4, no 1 - 8) namun kali ini menggunakan algoritma DecisionTreeClassifier dan kalian bisa menggunakan RandomizedSearchCV apabila process training lama. pelajari algoritma DecisionTreeClassifier di linkberikut: https://scikit-learn.org/stable/modules/generated/sklearn.tree.DecisionTreeClassifier.html?highlight=decisiontreeclassifier#sklearn.tree.DecisionTreeClassifier\n",
        "2. Bandingkan scorenya dengan Algoritma KNN, mana yang lebih baik?\n",
        "\n",
        "Note : Data Science adalah experiment, sangat di dimungkinkan memerlukan beberapa kali percobaan untuk mendapatkan hasil yang terbaik! Happy Coding :)"
      ]
    },
    {
      "cell_type": "markdown",
      "metadata": {
        "id": "2NevI-e3X9c6"
      },
      "source": [
        "#### NO 1"
      ]
    },
    {
      "cell_type": "code",
      "execution_count": 26,
      "metadata": {
        "id": "E4E6YlWOfYwm"
      },
      "outputs": [],
      "source": [
        "# 1. import algoritma DecisionTreeClassifier\n",
        "from sklearn.tree import DecisionTreeClassifier"
      ]
    },
    {
      "cell_type": "code",
      "execution_count": 27,
      "metadata": {
        "colab": {
          "base_uri": "https://localhost:8080/"
        },
        "id": "n6AOPaK8fo6e",
        "outputId": "f35daf7a-b19d-4997-e43d-7a4b6a9a565b"
      },
      "outputs": [
        {
          "output_type": "execute_result",
          "data": {
            "text/plain": [
              "GridSearchCV(cv=10, estimator=DecisionTreeClassifier(),\n",
              "             param_grid={'criterion': ['entropy', 'gini'],\n",
              "                         'min_samples_split': array([ 2,  3,  4,  5,  6,  7,  8,  9, 10, 11, 12, 13, 14, 15, 16, 17, 18,\n",
              "       19, 20, 21, 22, 23, 24, 25, 26, 27, 28, 29, 30, 31, 32, 33, 34, 35,\n",
              "       36, 37, 38, 39, 40, 41, 42, 43, 44, 45, 46, 47, 48, 49]),\n",
              "                         'splitter': ['best', 'random']},\n",
              "             scoring='roc_auc')"
            ]
          },
          "metadata": {},
          "execution_count": 27
        }
      ],
      "source": [
        "# Build model decision tree classifier \n",
        "model_tree = DecisionTreeClassifier()\n",
        "params = {'criterion' : ['entropy','gini'], 'splitter' : ['best', 'random'],\n",
        "         'min_samples_split' : np.arange(2,50)}\n",
        "gscv = GridSearchCV(model_tree, param_grid = params, cv = 10, scoring = 'roc_auc')\n",
        "gscv.fit(X_train, y_train)"
      ]
    },
    {
      "cell_type": "code",
      "execution_count": 28,
      "metadata": {
        "colab": {
          "base_uri": "https://localhost:8080/"
        },
        "id": "bf-n20APfrnd",
        "outputId": "c67f213d-4d9e-46e6-b402-c40ac09ea097"
      },
      "outputs": [
        {
          "output_type": "execute_result",
          "data": {
            "text/plain": [
              "{'criterion': 'gini', 'min_samples_split': 28, 'splitter': 'best'}"
            ]
          },
          "metadata": {},
          "execution_count": 28
        }
      ],
      "source": [
        "# parameter terbaik\n",
        "gscv.best_params_"
      ]
    },
    {
      "cell_type": "code",
      "execution_count": 29,
      "metadata": {
        "colab": {
          "base_uri": "https://localhost:8080/"
        },
        "id": "oghdg_0yfx7l",
        "outputId": "c093452c-11d0-4aa8-d276-da82fa4d7f88"
      },
      "outputs": [
        {
          "output_type": "execute_result",
          "data": {
            "text/plain": [
              "0.7355882352941177"
            ]
          },
          "metadata": {},
          "execution_count": 29
        }
      ],
      "source": [
        "# score validasi terbaik\n",
        "gscv.best_score_"
      ]
    },
    {
      "cell_type": "markdown",
      "metadata": {
        "id": "oIa97RA8X9c8"
      },
      "source": [
        "#### NO 2"
      ]
    },
    {
      "cell_type": "markdown",
      "metadata": {
        "id": "mF4C599vf5c-"
      },
      "source": [
        " <p style=\"color:#FF0000\">Jawab</p>\n"
      ]
    },
    {
      "cell_type": "markdown",
      "source": [
        "Score dari algoritma Decission Tree lebih baik dibandingkan dengan KNN "
      ],
      "metadata": {
        "id": "r308MHfAJyn0"
      }
    }
  ],
  "metadata": {
    "colab": {
      "collapsed_sections": [],
      "name": "TugasPertemuan16_Yuliette Rindani_Udinus.ipynb",
      "provenance": []
    },
    "kernelspec": {
      "display_name": "Python 3",
      "language": "python",
      "name": "python3"
    },
    "language_info": {
      "codemirror_mode": {
        "name": "ipython",
        "version": 3
      },
      "file_extension": ".py",
      "mimetype": "text/x-python",
      "name": "python",
      "nbconvert_exporter": "python",
      "pygments_lexer": "ipython3",
      "version": "3.8.8"
    }
  },
  "nbformat": 4,
  "nbformat_minor": 0
}